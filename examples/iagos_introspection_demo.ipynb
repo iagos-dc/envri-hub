{
 "cells": [
  {
   "cell_type": "markdown",
   "metadata": {},
   "source": [
    "# IAGOS API - ENVRI-ID Token Introspection Demo\n",
    "\n",
    "This notebook demonstrates **ENVRI-ID token introspection by the AERIS SSO system** through downloading IAGOS data and visualizing ozone timeseries for a flight.\n",
    "\n",
    "## Token Introspection Process\n",
    "\n",
    "1. **ENVRI-ID Authentication**: OAuth2 device flow obtains ENVRI-ID token\n",
    "2. **AERIS API Request**: Token is sent to AERIS-protected IAGOS API\n",
    "3. **Token Introspection**: AERIS SSO validates the ENVRI-ID token\n",
    "4. **Access Control**: Data access granted/denied based on token validity\n",
    "5. **Data Analysis**: Successful authentication allows NetCDF data download and analysis"
   ]
  },
  {
   "cell_type": "markdown",
   "metadata": {},
   "source": [
    "## 1. Import required libraries"
   ]
  },
  {
   "cell_type": "code",
   "execution_count": 1,
   "metadata": {},
   "outputs": [],
   "source": [
    "import sys\n",
    "import os\n",
    "import numpy as np\n",
    "import pandas as pd\n",
    "import matplotlib.pyplot as plt\n",
    "import matplotlib.dates as mdates\n",
    "from datetime import datetime\n",
    "import xarray as xr\n",
    "\n",
    "# Add the src directory to Python path for development\n",
    "# Compatible with both Jupyter and script execution\n",
    "try:\n",
    "    # For Jupyter notebooks\n",
    "    notebook_dir = os.getcwd()\n",
    "    src_path = os.path.join(notebook_dir, '..', 'src')\n",
    "except:\n",
    "    # Fallback for scripts\n",
    "    src_path = os.path.join(os.path.dirname(__file__), '..', 'src')\n",
    "\n",
    "sys.path.insert(0, os.path.abspath(src_path))\n",
    "\n",
    "# Import our custom module\n",
    "from iagos_envri.iagos_introspection import downloadOneFlight"
   ]
  },
  {
   "cell_type": "markdown",
   "metadata": {},
   "source": [
    "## 2. Download IAGOS data using OAuth2 - Token Introspection Demo\n",
    "\n",
    "This section demonstrates **ENVRI-ID token introspection by AERIS SSO**:\n",
    "\n",
    "1. **OAuth2 Device Flow**: Initiates ENVRI-ID authentication\n",
    "2. **Token Acquisition**: Obtains valid ENVRI-ID access token  \n",
    "3. **API Request**: Sends authenticated request to AERIS-protected IAGOS API\n",
    "4. **Token Introspection**: AERIS SSO validates the ENVRI-ID token in real-time\n",
    "5. **Access Grant**: Successful introspection allows data download\n",
    "\n",
    "You'll need to authenticate via browser - this demonstrates the complete ENVRI-ID token lifecycle and validation by AERIS SSO."
   ]
  },
  {
   "cell_type": "code",
   "execution_count": null,
   "metadata": {},
   "outputs": [],
   "source": [
    "# Define flight ID and output directory for the download\n",
    "flight_id = \"2023050203041714\"\n",
    "output_dir = \"c:/Users/dboulang/Documents/temp\"\n",
    "\n",
    "print(f\"=== ENVRI-ID Token Introspection Demo ===\")\n",
    "print(f\"Downloading flight {flight_id} using OAuth2 authentication...\")\n",
    "print(\"This demonstrates AERIS SSO performing ENVRI-ID token introspection\")\n",
    "print(\"Please follow the authentication instructions that will appear.\")\n",
    "print()\n",
    "\n",
    "# Download using OAuth2 - demonstrates token introspection by AERIS SSO\n",
    "try:\n",
    "    # The downloadOneFlight function will:\n",
    "    # 1. Obtain ENVRI-ID token via OAuth2\n",
    "    # 2. Send authenticated request to AERIS-protected API\n",
    "    # 3. AERIS SSO will introspect the token to validate access\n",
    "    # 4. Grant or deny access based on token validity\n",
    "    downloadOneFlight(flight_id, output_dir, use_oauth=True)\n",
    "    print(f\"✓ Token introspection successful - Download completed!\")\n",
    "    print(\"AERIS SSO successfully validated the ENVRI-ID token\")\n",
    "except PermissionError as e:\n",
    "    print(f\"\\n🔒 ACCESS REQUIRED:\")\n",
    "    print(\"Authorization failed - you are not part of the IAGOS group.\")\n",
    "    print(\"To access IAGOS data, you need to join the IAGOS group.\")\n",
    "    print(\"\\n👉 Please visit this link to request access:\")\n",
    "    print(\"https://login.staging.envri.eu/auth/realms/id/account/#/enroll?groupPath=/iagos\")\n",
    "    print(\"\\nAfter your request is approved, try running this cell again.\")\n",
    "except Exception as e:\n",
    "    error_msg = str(e).lower()\n",
    "    print(f\"✗ Token introspection failed: {e}\")\n",
    "    \n",
    "    # Check if it's an access/authorization issue (fallback)\n",
    "    if any(term in error_msg for term in ['403', 'unauthorized', 'forbidden', 'access denied', 'not authorized']):\n",
    "        print(\"\\n🔒 ACCESS REQUIRED:\")\n",
    "        print(\"Authorization failed - you are not part of the IAGOS group.\")\n",
    "        print(\"To access IAGOS data, you need to join the IAGOS group.\")\n",
    "        print(\"\\n👉 Please visit this link to request access:\")\n",
    "        print(\"https://login.staging.envri.eu/auth/realms/id/account/#/enroll?groupPath=/iagos\")\n",
    "        print(\"\\nAfter your request is approved, try running this cell again.\")\n",
    "    else:\n",
    "        print(\"AERIS SSO rejected or could not validate the ENVRI-ID token\")"
   ]
  },
  {
   "cell_type": "markdown",
   "metadata": {},
   "source": [
    "## 3. Load NetCDF file and visualize ozone timeseries\n",
    "\n",
    "The following analysis shows the ozone data from the successfully downloaded IAGOS flight."
   ]
  },
  {
   "cell_type": "code",
   "execution_count": null,
   "metadata": {},
   "outputs": [],
   "source": [
    "# Load the NetCDF file and create ozone timeseries\n",
    "file_path = f\"{output_dir}/{flight_id}.nc\"\n",
    "\n",
    "if os.path.exists(file_path):\n",
    "    print(f\"Loading file: {file_path}\")\n",
    "    ds = xr.open_dataset(file_path)\n",
    "    \n",
    "    # Extract ozone data and time\n",
    "    ozone_data = ds['O3_P1']  # Ozone mixing ratio\n",
    "    time_data = ds['UTC_time']\n",
    "    \n",
    "    # Convert time to datetime\n",
    "    time_values = pd.to_datetime(time_data.values)\n",
    "    \n",
    "    # Create ozone timeseries plot\n",
    "    fig, ax = plt.subplots(1, 1, figsize=(12, 6))\n",
    "    \n",
    "    ax.plot(time_values, ozone_data, 'b-', linewidth=1, alpha=0.8)\n",
    "    ax.set_ylabel(f'{ozone_data.attrs.get(\"long_name\", \"Ozone\")}\\n[{ozone_data.attrs.get(\"units\", \"ppb\")}]')\n",
    "    ax.set_xlabel('Time (UTC)')\n",
    "    ax.set_title(f'IAGOS Flight {flight_id} - Ozone Timeseries')\n",
    "    ax.grid(True, alpha=0.3)\n",
    "    \n",
    "    # Format time axis\n",
    "    ax.xaxis.set_major_formatter(mdates.DateFormatter('%H:%M'))\n",
    "    ax.xaxis.set_major_locator(mdates.HourLocator(interval=1))\n",
    "    plt.setp(ax.xaxis.get_majorticklabels(), rotation=45)\n",
    "    \n",
    "    plt.tight_layout()\n",
    "    plt.show()\n",
    "    \n",
    "    # Close the dataset\n",
    "    ds.close()\n",
    "    \n",
    "    print(\"✓ Ozone timeseries visualization completed\")\n",
    "    \n",
    "else:\n",
    "    print(f\"File not found: {file_path}\")\n",
    "    print(\"Please run the download cell above first.\")"
   ]
  },
  {
   "cell_type": "code",
   "execution_count": 8,
   "metadata": {},
   "outputs": [
    {
     "name": "stdout",
     "output_type": "stream",
     "text": [
      "Dataset closed.\n"
     ]
    }
   ],
   "source": [
    "# Close the dataset\n",
    "if 'ds' in locals():\n",
    "    ds.close()\n",
    "    print(\"Dataset closed.\")"
   ]
  }
 ],
 "metadata": {
  "kernelspec": {
   "display_name": "Python 3 (ipykernel)",
   "language": "python",
   "name": "python3"
  },
  "language_info": {
   "codemirror_mode": {
    "name": "ipython",
    "version": 3
   },
   "file_extension": ".py",
   "mimetype": "text/x-python",
   "name": "python",
   "nbconvert_exporter": "python",
   "pygments_lexer": "ipython3",
   "version": "3.13.7"
  }
 },
 "nbformat": 4,
 "nbformat_minor": 4
}
